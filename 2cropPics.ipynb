{
 "cells": [
  {
   "cell_type": "code",
   "execution_count": 1,
   "metadata": {},
   "outputs": [
    {
     "data": {
      "text/plain": [
       "{'7days',\n",
       " 'coke',\n",
       " 'evian',\n",
       " 'maltesers',\n",
       " 'redbull',\n",
       " 'skittles',\n",
       " 'snickers',\n",
       " 'twix'}"
      ]
     },
     "execution_count": 1,
     "metadata": {},
     "output_type": "execute_result"
    }
   ],
   "source": [
    "import glob\n",
    "from PIL import Image\n",
    "import xmltodict\n",
    "import os\n",
    "import re\n",
    "from collections import defaultdict\n",
    "\n",
    "def read_xmls(folder_path):\n",
    "    ''' \n",
    "    \n",
    "    return a tuple\n",
    "    \n",
    "    (pic filename, list of objects) '''\n",
    "    folder_path += '/*.xml'\n",
    "    file_name = glob.glob(folder_path)\n",
    "    file_use = []\n",
    "    data = []\n",
    "    for file in file_name:\n",
    "        data_read = xmltodict.parse(open(file,'r').read())\n",
    "        if 'object' in data_read['annotation']:\n",
    "            data.append((file, data_read['annotation']['object']))\n",
    "    return data\n",
    "\n",
    "def get_obj_name(folder_path):\n",
    "    '''\n",
    "    arg:\n",
    "        folder path\n",
    "    return:\n",
    "        all object_name form xml files in the folder\n",
    "    '''\n",
    "    folder_path += '/*.xml'\n",
    "    file_name = glob.glob(folder_path)\n",
    "    s_name = set()\n",
    "    for file in file_name:\n",
    "        data = xmltodict.parse(open(file,'r').read())\n",
    "        if 'object' in data['annotation']:\n",
    "            if isinstance(data['annotation']['object'],list):\n",
    "                for item in data['annotation']['object']:\n",
    "                    s_name.add(item['name'])\n",
    "            else:\n",
    "                s_name.add(data['annotation']['object']['name'])\n",
    "    return s_name\n",
    "\n",
    "\n",
    "get_obj_name('./dataVHi')"
   ]
  },
  {
   "cell_type": "code",
   "execution_count": 14,
   "metadata": {},
   "outputs": [
    {
     "data": {
      "text/plain": [
       "0"
      ]
     },
     "execution_count": 14,
     "metadata": {},
     "output_type": "execute_result"
    }
   ],
   "source": [
    "0 % 30"
   ]
  },
  {
   "cell_type": "code",
   "execution_count": 12,
   "metadata": {},
   "outputs": [
    {
     "data": {
      "text/plain": [
       "331"
      ]
     },
     "execution_count": 12,
     "metadata": {},
     "output_type": "execute_result"
    }
   ],
   "source": [
    "crop_pic = defaultdict(list)\n",
    "data = read_xmls('./dataVHi')\n",
    "len(data)"
   ]
  },
  {
   "cell_type": "code",
   "execution_count": 25,
   "metadata": {},
   "outputs": [
    {
     "name": "stdout",
     "output_type": "stream",
     "text": [
      "start\n",
      "progress: 0%\n",
      "progress: 10%\n",
      "progress: 20%\n",
      "progress: 30%\n",
      "progress: 40%\n",
      "progress: 50%\n",
      "progress: 60%\n",
      "progress: 70%\n",
      "progress: 80%\n",
      "progress: 90%\n",
      "progress: 100%\n"
     ]
    }
   ],
   "source": [
    "progress = 0\n",
    "for i,each_pic in enumerate(data):\n",
    "    if i == 0:\n",
    "        print('start')\n",
    "    elif i % 30 == 0:\n",
    "        print(f'progress: {progress*10}%')\n",
    "        progress += 1\n",
    "    names = glob.glob(each_pic[0][:-3] + '**')\n",
    "    for name in names:\n",
    "        if not re.search('xml',name):\n",
    "            pic_name = name        \n",
    "    im = Image.open(pic_name)\n",
    "    im_list = []\n",
    "    if isinstance(each_pic[1],list):\n",
    "        for obj in each_pic[1]:\n",
    "            c_im = im.crop((int(obj['bndbox']['xmin']),\n",
    "                       int(obj['bndbox']['ymin']),\n",
    "                       int(obj['bndbox']['xmax']),\n",
    "                       int(obj['bndbox']['ymax'])))\n",
    "            crop_pic[obj['name']].append(c_im)\n",
    "    else:\n",
    "        c_im = im.crop((int(each_pic[1]['bndbox']['xmin']),\n",
    "                       int(each_pic[1]['bndbox']['ymin']),\n",
    "                       int(each_pic[1]['bndbox']['xmax']),\n",
    "                       int(each_pic[1]['bndbox']['ymax'])))\n",
    "        crop_pic[each_pic[1]['name']].append(c_im)"
   ]
  },
  {
   "cell_type": "code",
   "execution_count": null,
   "metadata": {},
   "outputs": [],
   "source": [
    "progress = 0\n",
    "for item in crop_pic:\n",
    "    for i, im in enumerate(crop_pic[item]):\n",
    "        im.save(f'./cropPics/{item}{i}.png')"
   ]
  }
 ],
 "metadata": {
  "kernelspec": {
   "display_name": "Python 3",
   "language": "python",
   "name": "python3"
  },
  "language_info": {
   "codemirror_mode": {
    "name": "ipython",
    "version": 3
   },
   "file_extension": ".py",
   "mimetype": "text/x-python",
   "name": "python",
   "nbconvert_exporter": "python",
   "pygments_lexer": "ipython3",
   "version": "3.7.4"
  }
 },
 "nbformat": 4,
 "nbformat_minor": 4
}
