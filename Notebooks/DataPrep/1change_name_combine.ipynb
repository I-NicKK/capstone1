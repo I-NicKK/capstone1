{
 "cells": [
  {
   "cell_type": "code",
   "execution_count": 56,
   "metadata": {},
   "outputs": [
    {
     "data": {
      "text/plain": [
       "{'7days',\n",
       " 'coke',\n",
       " 'evian',\n",
       " 'maltesers',\n",
       " 'redbull',\n",
       " 'skittles',\n",
       " 'snickers',\n",
       " 'twix'}"
      ]
     },
     "execution_count": 56,
     "metadata": {},
     "output_type": "execute_result"
    }
   ],
   "source": [
    "import glob\n",
    "from PIL import Image\n",
    "import xmltodict\n",
    "import os\n",
    "import re\n",
    "from collections import defaultdict\n",
    "\n",
    "def read_xmls(folder_path):\n",
    "    ''' \n",
    "    \n",
    "    return a tuple\n",
    "    \n",
    "    (pic filename, list of objects) '''\n",
    "    folder_path += '/*.xml'\n",
    "    file_name = glob.glob(folder_path)\n",
    "    file_use = []\n",
    "    data = []\n",
    "    for file in file_name:\n",
    "        data_read = xmltodict.parse(open(file,'r').read())\n",
    "        if 'object' in data_read['annotation']:\n",
    "            data.append((file, data_read['annotation']['object']))\n",
    "    return data\n",
    "\n",
    "def get_obj_name(folder_path):\n",
    "    '''\n",
    "    arg:\n",
    "        folder path\n",
    "    return:\n",
    "        all object_name form xml files in the folder\n",
    "    '''\n",
    "    folder_path += '/*.xml'\n",
    "    file_name = glob.glob(folder_path)\n",
    "    s_name = set()\n",
    "    for file in file_name:\n",
    "        data = xmltodict.parse(open(file,'r').read())\n",
    "        if 'object' in data['annotation']:\n",
    "            if isinstance(data['annotation']['object'],list):\n",
    "                for item in data['annotation']['object']:\n",
    "                    s_name.add(item['name'])\n",
    "            else:\n",
    "                s_name.add(data['annotation']['object']['name'])\n",
    "    return s_name\n",
    "\n",
    "\n",
    "get_obj_name('./CleanXML')"
   ]
  },
  {
   "cell_type": "code",
   "execution_count": 63,
   "metadata": {},
   "outputs": [
    {
     "data": {
      "text/plain": [
       "['./dataClean/20190111_111631_HoloLens.xml',\n",
       " './dataClean/20190111_111648_HoloLens.xml',\n",
       " './dataClean/20190125_113931.xml',\n",
       " './dataClean/IMG_20190206_120945.xml']"
      ]
     },
     "execution_count": 63,
     "metadata": {},
     "output_type": "execute_result"
    }
   ],
   "source": [
    "# get file name that not include our object\n",
    "def file_not_use(folder_path):\n",
    "    ''' \n",
    "    get the file name that won't be used\n",
    "     '''\n",
    "    folder_path += '/*.xml'\n",
    "    file_name = glob.glob(folder_path)\n",
    "    file_use = []\n",
    "    data = []\n",
    "    for file in file_name:\n",
    "        data_read = xmltodict.parse(open(file,'r').read())\n",
    "        if 'object' not in data_read['annotation']:\n",
    "            data.append(file)\n",
    "    return data\n",
    "not_use = file_not_use('./dataClean')\n",
    "not_use"
   ]
  },
  {
   "cell_type": "code",
   "execution_count": 73,
   "metadata": {},
   "outputs": [
    {
     "data": {
      "text/plain": [
       "['./dataClean/20190111_111631_HoloLens.jpg',\n",
       " './dataClean/20190111_111631_HoloLens.xml',\n",
       " './dataClean/20190111_111648_HoloLens.jpg',\n",
       " './dataClean/20190111_111648_HoloLens.xml',\n",
       " './dataClean/20190125_113931.jpg',\n",
       " './dataClean/20190125_113931.xml',\n",
       " './dataClean/IMG_20190206_120945.jpg',\n",
       " './dataClean/IMG_20190206_120945.xml']"
      ]
     },
     "execution_count": 73,
     "metadata": {},
     "output_type": "execute_result"
    }
   ],
   "source": [
    "all_not_use = []\n",
    "\n",
    "for file in not_use:\n",
    "    all_not_use.extend(glob.glob(file[:-3]+'*'))\n",
    "\n",
    "all_not_use"
   ]
  },
  {
   "cell_type": "code",
   "execution_count": 74,
   "metadata": {},
   "outputs": [],
   "source": [
    "!rm ./dataClean/20190111_111631_HoloLens.jpg\n",
    "!rm ./dataClean/20190111_111631_HoloLens.xml\n",
    "!rm ./dataClean/20190111_111648_HoloLens.jpg\n",
    "!rm ./dataClean/20190111_111648_HoloLens.xml\n",
    "!rm ./dataClean/20190125_113931.jpg\n",
    "!rm ./dataClean/20190125_113931.xml\n",
    "!rm ./dataClean/IMG_20190206_120945.jpg\n",
    "!rm ./dataClean/IMG_20190206_120945.xml"
   ]
  },
  {
   "cell_type": "code",
   "execution_count": 79,
   "metadata": {},
   "outputs": [],
   "source": [
    "# change object name to match our own label\n",
    "file_names = glob.glob('./dataClean/*.xml')\n",
    "file_names\n",
    "\n",
    "name_dict = {'7days_croissantschoko_packung_80_1_0000000000003': '7days',\n",
    "             'coke__dose_33__54491472':'coke',\n",
    "             'evian___50__3068320353500':'evian',\n",
    "             'maltesers___100__5000159023061':'maltesers',\n",
    "             'redbull___33__90162909':'redbull',\n",
    "             'skittles_sour_riegel_51_1_0000000000004':'skittles',\n",
    "             'snickers___50__5000159461122':'snickers',\n",
    "             'twix___50__5000159459228':'twix'}\n",
    "for file in file_names:\n",
    "    with open(file,'r',encoding='utf-8') as f:\n",
    "        xml = f.read()\n",
    "        for name in name_dict:\n",
    "            xml = re.sub(name,name_dict[name],xml)\n",
    "    with open(file,'w') as f:\n",
    "        f.write(xml)"
   ]
  },
  {
   "cell_type": "code",
   "execution_count": 81,
   "metadata": {},
   "outputs": [
    {
     "data": {
      "text/plain": [
       "{'7days',\n",
       " 'coke',\n",
       " 'evian',\n",
       " 'maltesers',\n",
       " 'redbull',\n",
       " 'skittles',\n",
       " 'snickers',\n",
       " 'twix'}"
      ]
     },
     "execution_count": 81,
     "metadata": {},
     "output_type": "execute_result"
    }
   ],
   "source": [
    "# now label is changed\n",
    "get_obj_name('./dataClean')"
   ]
  },
  {
   "cell_type": "code",
   "execution_count": 41,
   "metadata": {},
   "outputs": [
    {
     "data": {
      "text/plain": [
       "295"
      ]
     },
     "execution_count": 41,
     "metadata": {},
     "output_type": "execute_result"
    }
   ],
   "source": [
    "len(glob.glob('./dataClean/*.xml'))"
   ]
  }
 ],
 "metadata": {
  "kernelspec": {
   "display_name": "Python 3",
   "language": "python",
   "name": "python3"
  },
  "language_info": {
   "codemirror_mode": {
    "name": "ipython",
    "version": 3
   },
   "file_extension": ".py",
   "mimetype": "text/x-python",
   "name": "python",
   "nbconvert_exporter": "python",
   "pygments_lexer": "ipython3",
   "version": "3.7.4"
  }
 },
 "nbformat": 4,
 "nbformat_minor": 4
}
